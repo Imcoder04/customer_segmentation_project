## Applying K-Means Clustering
We apply K-Means clustering to the normalized RFM dataset to segment customers based on Recency, Frequency, and Monetary values. Initially, we assume 3 clusters. The resulting cluster labels are added back to the original RFM table for further analysis.
from sklearn.cluster import KMeans
import matplotlib.pyplot as plt
import seaborn as sns
from sklearn.metrics import silhouette_score

# Apply KMeans with arbitrary number of clusters (e.g. 3 initially)
kmeans = KMeans(n_clusters=3, random_state=42)
kmeans.fit(rfm_scaled)  # rfm_scaled = normalized RFM data

# Add the cluster labels to the RFM data
rfm['Cluster'] = kmeans.labels_
